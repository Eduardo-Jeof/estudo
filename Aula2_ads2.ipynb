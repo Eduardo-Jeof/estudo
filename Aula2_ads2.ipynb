{
  "nbformat": 4,
  "nbformat_minor": 0,
  "metadata": {
    "colab": {
      "provenance": [],
      "authorship_tag": "ABX9TyMN9iovxI3HoJvlo4EPx2KP",
      "include_colab_link": true
    },
    "kernelspec": {
      "name": "python3",
      "display_name": "Python 3"
    },
    "language_info": {
      "name": "python"
    }
  },
  "cells": [
    {
      "cell_type": "markdown",
      "metadata": {
        "id": "view-in-github",
        "colab_type": "text"
      },
      "source": [
        "<a href=\"https://colab.research.google.com/github/Eduardo-Jeof/estudo/blob/main/Aula2_ads2.ipynb\" target=\"_parent\"><img src=\"https://colab.research.google.com/assets/colab-badge.svg\" alt=\"Open In Colab\"/></a>"
      ]
    },
    {
      "cell_type": "code",
      "execution_count": 6,
      "metadata": {
        "colab": {
          "base_uri": "https://localhost:8080/"
        },
        "id": "R6R-waFHeVfn",
        "outputId": "f9187aa1-3c3d-48b0-9c62-da924c1a0a15"
      },
      "outputs": [
        {
          "output_type": "stream",
          "name": "stdout",
          "text": [
            "Eduardo\n",
            "<class 'str'>\n"
          ]
        }
      ],
      "source": [
        "#UNINASSAU\n",
        "#DOCENTE: CLOVESROCHA\n",
        "#ESTUDANTE: EDUARDO\n",
        "#TIPOS PRIMITIVOS DE DADOS\n",
        "\n",
        "print('Eduardo')\n",
        "\n",
        "d = 'dado'\n",
        "print(type(d))\n"
      ]
    }
  ]
}