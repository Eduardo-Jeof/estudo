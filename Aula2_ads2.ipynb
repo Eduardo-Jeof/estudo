{
  "nbformat": 4,
  "nbformat_minor": 0,
  "metadata": {
    "colab": {
      "provenance": []
    },
    "kernelspec": {
      "name": "python3",
      "display_name": "Python 3"
    },
    "language_info": {
      "name": "python"
    }
  },
  "cells": [
    {
      "cell_type": "code",
      "execution_count": 5,
      "metadata": {
        "colab": {
          "base_uri": "https://localhost:8080/"
        },
        "id": "R6R-waFHeVfn",
        "outputId": "265a3325-7333-4347-88af-5ebcd4d806b5"
      },
      "outputs": [
        {
          "output_type": "stream",
          "name": "stdout",
          "text": [
            "Eduardo\n",
            "<class 'float'>\n"
          ]
        }
      ],
      "source": [
        "#UNINASSA\n",
        "#DOCENTE: CLOVESROCHA\n",
        "#ESTUDANTE: EDUARDO\n",
        "#TIPOS PRIMITIVOS DE DADOS\n",
        "\n",
        "print('Eduardo')\n",
        "\n",
        "c = 9.9\n",
        "print(type(c))\n"
      ]
    }
  ]
}